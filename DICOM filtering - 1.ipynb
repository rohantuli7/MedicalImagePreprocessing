{
 "cells": [
  {
   "cell_type": "markdown",
   "metadata": {
    "toc": true
   },
   "source": [
    "<h1>Table of Contents<span class=\"tocSkip\"></span></h1>\n",
    "<div class=\"toc\"><ul class=\"toc-item\"></ul></div>"
   ]
  },
  {
   "cell_type": "code",
   "execution_count": null,
   "metadata": {},
   "outputs": [],
   "source": [
    "#importing libraries\n",
    "import cv2 as cv\n",
    "import matplotlib.pyplot as plt\n",
    "import numpy as np\n",
    "import pydicom\n",
    "import os\n",
    "import sys\n",
    "import skimage "
   ]
  },
  {
   "cell_type": "code",
   "execution_count": null,
   "metadata": {},
   "outputs": [],
   "source": [
    "files = [pydicom.dcmread(path + '/' + s) for s in sorted(os.listdir(path))] #Storing all images\n",
    "images = [s.pixel_array for s in files]\n",
    "dcm_gray = np.zeros([512,512],dtype = np.uint8)\n",
    "gray_images = np.uint8([cv.normalize(s, dcm_gray, 0, 255, cv.NORM_MINMAX) for s in images])\n",
    "dcm_equalized = [cv.equalizeHist(s) for s in gray_images]"
   ]
  },
  {
   "cell_type": "code",
   "execution_count": null,
   "metadata": {},
   "outputs": [],
   "source": [
    "#Gaussian Filter bank\n",
    "#images['GaussianBlur']['Image Number (1-100)'][]\n",
    "images = {}\n",
    "images['LOG'] = {}\n",
    "images['DOG'] = {}\n",
    "images['GaussianBlur'] = {}\n",
    "images['Gray'] = {}\n",
    "images['Gray_Equalized'] = {}\n",
    "\n",
    "rt = 0\n",
    "for i in gray_images:\n",
    "    rt = rt+1\n",
    "    \n",
    "    #Gaussian Blur\n",
    "    images['GaussianBlur'][rt] = {}\n",
    "    for j in range(1,12):\n",
    "        if j%2 == 0:\n",
    "            pass\n",
    "        else:\n",
    "            gtemp = cv.GaussianBlur(i,(j,j),0)\n",
    "            images['GaussianBlur'][rt][j] = gtemp"
   ]
  },
  {
   "cell_type": "code",
   "execution_count": null,
   "metadata": {},
   "outputs": [],
   "source": [
    "#Laplacian Filter bank\n",
    "#images['Laplacian']['Image number (1-100)'][kernel size of the blurred image(1-11)][kernel size of the Laplacian(1-31)]\n",
    "ddepth = cv.CV_16S\n",
    "n = len(gray_images)\n",
    "for i in range(1,n+1):\n",
    "    ker = -1\n",
    "    images['LOG'][i] = {}\n",
    "    for j in images['GaussianBlur'][i]:\n",
    "        ker = ker + 2\n",
    "        temp = images['GaussianBlur'][i][j]\n",
    "        #plt.imshow(temp)\n",
    "        #plt.show()\n",
    "        images['LOG'][i][ker] = {}\n",
    "        for k in range(1,32):\n",
    "            if k%2 == 0:\n",
    "                pass\n",
    "            else:\n",
    "                temp1 = images['GaussianBlur'][i][j]\n",
    "                ltemp = np.uint8(cv.Laplacian(temp1,ddepth,ksize = k))\n",
    "                images['LOG'][i][ker][k] = ltemp"
   ]
  },
  {
   "cell_type": "code",
   "execution_count": null,
   "metadata": {},
   "outputs": [],
   "source": [
    "#images['DOG']['Set (set1 = sigma1 values of 1, 1.6 and set2 = sigma1 values of 10, 16)']['Image number (1-100)'][kernel size of first blurred image(1-11)][kernel size of second blurred image(1-11)]\n",
    "#images['DOG'] = {}\n",
    "rt = 0\n",
    "for s in range(1,3):\n",
    "    if s == 1:\n",
    "        images['DOG'][s] = {}\n",
    "        for i in gray_images:\n",
    "            rt = rt+1\n",
    "            images['DOG'][s][rt] = {}\n",
    "            for j in range(1,11):\n",
    "                images['DOG'][s][rt][j] = {}\n",
    "                for k in range(1,11):\n",
    "                    if(k%2 == 0 and j %2 == 0) or (k%2 != 0 and j%2 == 0) or (j%2 != 0 and k%2 == 0):\n",
    "                        pass\n",
    "                    else:\n",
    "                        temp1 = cv.GaussianBlur(i,(j,j),1)\n",
    "                        temp2 = cv.GaussianBlur(i,(k,k),1.6)\n",
    "                        result = temp1 - temp2\n",
    "                        images['DOG'][s][rt][j][k] = result\n",
    "                        \n",
    "    elif s == 2:\n",
    "        images['DOG'][s] = {}\n",
    "        for i in gray_images:\n",
    "            rt = rt+1\n",
    "            images['DOG'][s][rt] = {}\n",
    "            for j in range(1,11):\n",
    "                images['DOG'][s][rt][j] = {}\n",
    "                for k in range(1,11):\n",
    "                    if(k%2 == 0 and j %2 == 0) or (k%2 != 0 and j%2 == 0) or (j%2 != 0 and k%2 == 0):\n",
    "                        pass\n",
    "                    else:\n",
    "                        temp1 = cv.GaussianBlur(i,(j,j),10)\n",
    "                        temp2 = cv.GaussianBlur(i,(k,k),16)\n",
    "                        result = temp1 - temp2\n",
    "                        images['DOG'][s][rt][j][k] = result"
   ]
  },
  {
   "cell_type": "code",
   "execution_count": null,
   "metadata": {},
   "outputs": [],
   "source": [
    "#Storing Grayscale images in images dictionary\n",
    "#images['Gray']['Image number (1-100)']\n",
    "rt = 0\n",
    "for i in gray_images:\n",
    "    rt = rt + 1\n",
    "    images['Gray'][rt] = i\n",
    "    \n",
    "rt = 0\n",
    "for i in dcm_equalized:\n",
    "    rt = rt + 1\n",
    "    images['Gray_Equalized'][rt] = i"
   ]
  },
  {
   "cell_type": "code",
   "execution_count": null,
   "metadata": {},
   "outputs": [],
   "source": []
  },
  {
   "cell_type": "code",
   "execution_count": null,
   "metadata": {},
   "outputs": [],
   "source": []
  },
  {
   "cell_type": "code",
   "execution_count": null,
   "metadata": {},
   "outputs": [],
   "source": []
  }
 ],
 "metadata": {
  "kernelspec": {
   "display_name": "Python 3 (ipykernel)",
   "language": "python",
   "name": "python3"
  },
  "language_info": {
   "codemirror_mode": {
    "name": "ipython",
    "version": 3
   },
   "file_extension": ".py",
   "mimetype": "text/x-python",
   "name": "python",
   "nbconvert_exporter": "python",
   "pygments_lexer": "ipython3",
   "version": "3.7.4"
  },
  "toc": {
   "base_numbering": 1,
   "nav_menu": {},
   "number_sections": true,
   "sideBar": false,
   "skip_h1_title": false,
   "title_cell": "Table of Contents",
   "title_sidebar": "Contents",
   "toc_cell": true,
   "toc_position": {},
   "toc_section_display": true,
   "toc_window_display": false
  }
 },
 "nbformat": 4,
 "nbformat_minor": 2
}
